{
  "cells": [
    {
      "cell_type": "markdown",
      "metadata": {
        "colab_type": "text",
        "id": "view-in-github"
      },
      "source": [
        "<a href=\"https://colab.research.google.com/github/yilewang/TVB_Demo/blob/master/The_contrast_analysis.ipynb\" target=\"_parent\"><img src=\"https://colab.research.google.com/assets/colab-badge.svg\" alt=\"Open In Colab\"/></a>"
      ]
    },
    {
      "cell_type": "markdown",
      "metadata": {
        "id": "EmLjfLs7fEJh"
      },
      "source": [
        "This is a demo for contrast analysis. Contrast analysis is a statistical tool for trends analysis. The basic idea is based on ANOVA but it will allow research to customize contrast weights for different groups. This demo will only focus on posterior test of the contrast analysis (Scheffe's Test). The detailed info could be seen at Dr. Abdi's paper here: https://personal.utdallas.edu/~herve/abdi-contrasts2010-pretty.pdf"
      ]
    },
    {
      "cell_type": "code",
      "execution_count": 1,
      "metadata": {
        "colab": {
          "base_uri": "https://localhost:8080/",
          "height": 35
        },
        "id": "35LLTz55e-Ky",
        "outputId": "9bf0093d-2689-4f04-d007-e6fd1492fc2f"
      },
      "outputs": [
        {
          "data": {
            "text/plain": [
              "'\\nThe contrast analysis used for group comparison\\n\\nAuthor: Yile Wang\\nDate: 08/17/2021\\n'"
            ]
          },
          "execution_count": 1,
          "metadata": {},
          "output_type": "execute_result"
        }
      ],
      "source": [
        "# !/usr/bin/python\n",
        "\n",
        "import numpy as np\n",
        "import scipy.stats\n",
        "import pandas as pd\n",
        "\"\"\"\n",
        "The contrast analysis used for group comparison\n",
        "\n",
        "Author: Yile Wang\n",
        "Date: 08/17/2021\n",
        "\"\"\""
      ]
    },
    {
      "cell_type": "code",
      "execution_count": 2,
      "metadata": {
        "id": "ZzQEHpvifeka"
      },
      "outputs": [],
      "source": [
        "def contrast_analysis(datatable, contrast, group_variable = \"group\", col = \"gamma\"):\n",
        "    \"\"\" \n",
        "    Arg: \n",
        "        Pandas DataFrame with all the features and groups info\n",
        "    Return: \n",
        "        The contrast analysis results\n",
        "    \n",
        "    For this dataset, it should contain four groups, SNC, NC, MCI, AD;\n",
        "\n",
        "\n",
        "    \"\"\"\n",
        "\n",
        "    # the number of cases for each group\n",
        "    num_group = len(contrast)\n",
        "    num_cases = datatable.groupby([group_variable], sort=False).count().iloc[:,0].to_numpy()\n",
        "\n",
        "    F_table = pd.DataFrame(columns=['features','F_value', 'P_value'])\n",
        "    mean_array = np.zeros(num_group)\n",
        "    var_array = np.zeros(num_group)\n",
        "\n",
        "\n",
        "    # mean calculation\n",
        "    mean_array = datatable.groupby([group_variable], sort=False).mean().loc[:,col].to_numpy()\n",
        "    meanNcontrast = np.dot(mean_array, contrast)\n",
        "    contrast2 = np.square(contrast)\n",
        "\n",
        "    # variance calculation\n",
        "    var_array = datatable.groupby([group_variable], sort=False).var().loc[:,col].to_numpy()\n",
        "    denominator = sum(num_cases) - num_group\n",
        "    # degree of freedom of the each case\n",
        "    num_cases_df = num_cases -1\n",
        "\n",
        "    # compute the sum of squares & mean sum of squares \n",
        "    SSE = np.dot(var_array, num_cases_df)\n",
        "    MSE = SSE/denominator\n",
        "    tmp_ms_contrast = sum(contrast2/num_cases)\n",
        "\n",
        "    # compute the MS contrast\n",
        "    MS_contrast = (meanNcontrast**2) / tmp_ms_contrast\n",
        "    F_value = MS_contrast/MSE\n",
        "\n",
        "    # alpha = 0.05\n",
        "    F_critical = scipy.stats.f.ppf(q=1-0.05, dfn=1, dfd=denominator)\n",
        "\n",
        "    # for posterior contrast, using scheffe test\n",
        "    scheffe = F_critical * (num_group-1)\n",
        "    if F_value >= scheffe:\n",
        "        p = 0.05\n",
        "    else:\n",
        "        p = 'NA'\n",
        "\n",
        "    print(f\"The {col} contrast has F_value {F_value}, and the F_critical Scheffe's Test is {scheffe}\")\n",
        "    _tmp_dict = pd.DataFrame.from_dict([{'features':col,'F_value':F_value, 'P_value':p}])\n",
        "    F_table = pd.concat([F_table, _tmp_dict], ignore_index=True)\n",
        "    return F_table"
      ]
    },
    {
      "cell_type": "code",
      "execution_count": 3,
      "metadata": {
        "colab": {
          "base_uri": "https://localhost:8080/"
        },
        "id": "Ja24DPibgCsC",
        "outputId": "e571e7ed-9e12-4ecf-caa9-af7b89922b85"
      },
      "outputs": [],
      "source": [
        "# The data set should be a pandas Datafram, and the groups info should be specificed as a column called 'groups'\n",
        "# e.x.\n",
        "\n",
        "#G_table = pd.read_excel('./test.xlsx')\n",
        "\n",
        "\n",
        "G_table = pd.read_excel(\"/home/yat-lok/workspace/data4project/lateralization/gc1sec_res/gc1sec_res.xlsx\")\n",
        "\n",
        "def left_right_interact_binder(G_table, group_variable, var1, var2, name1, name2, default_name = \"value\"):\n",
        "    df = pd.DataFrame()\n",
        "    df = pd.concat([df, G_table.loc[:,group_variable], G_table.loc[:,group_variable]], ignore_index=True)\n",
        "    _tmp_ga = list(G_table.loc[:,var1])\n",
        "    _tmp_ga.extend(G_table.loc[:,var2].to_list())\n",
        "    df = pd.concat([df, pd.DataFrame([*_tmp_ga])], axis=1, ignore_index=True)\n",
        "    _tmp_left = pd.Series([name1]).repeat(74)\n",
        "    _tmp_right = pd.Series([name2]).repeat(74)\n",
        "    df = pd.concat([df, pd.DataFrame([*_tmp_left, *_tmp_right])], axis=1, ignore_index=True)\n",
        "    df.columns = [group_variable, default_name, \"tmp\"]\n",
        "    df['U'] = df.loc[:,group_variable].astype(str).str.cat(df.tmp.astype(str), sep='.')\n",
        "    df = df[['U', default_name]]\n",
        "    return df\n"
      ]
    },
    {
      "cell_type": "code",
      "execution_count": 10,
      "metadata": {},
      "outputs": [
        {
          "name": "stdout",
          "output_type": "stream",
          "text": [
            "The gamma frequency contrast has F_value 7.407485750373516, and the F_critical Scheffe's Test is 27.36118987286973\n",
            "          features   F_value P_value\n",
            "0  gamma frequency  7.407486      NA\n",
            "The theta frequency contrast has F_value 1.790567208139677, and the F_critical Scheffe's Test is 27.36118987286973\n",
            "          features   F_value P_value\n",
            "0  theta frequency  1.790567      NA\n",
            "The gamma amplitude contrast has F_value 1.5803941268911523, and the F_critical Scheffe's Test is 27.36118987286973\n",
            "          features   F_value P_value\n",
            "0  gamma amplitude  1.580394      NA\n",
            "The theta amplitude contrast has F_value 2.102344434083729, and the F_critical Scheffe's Test is 27.36118987286973\n",
            "          features   F_value P_value\n",
            "0  theta amplitude  2.102344      NA\n",
            "The PAC contrast has F_value 4.548097465665645, and the F_critical Scheffe's Test is 27.36118987286973\n",
            "  features   F_value P_value\n",
            "0      PAC  4.548097      NA\n",
            "The PLV contrast has F_value 4.037167196048991, and the F_critical Scheffe's Test is 27.36118987286973\n",
            "  features   F_value P_value\n",
            "0      PLV  4.037167      NA\n"
          ]
        }
      ],
      "source": [
        "# contrast = [-3, -1, 1, 3] #linear trend\n",
        "# contrast2 = [1,-1,-1,1] #quadratic trend\n",
        "# contrast3 = [-1,3,-3,1] #poly\n",
        "# contrast4 = [0,-2, 0,2]\n",
        "name_list = [\"gamma frequency\", \"theta frequency\", \"gamma amplitude\",\"theta amplitude\", \"PAC\", \"PLV\"]\n",
        "for ind, i in enumerate(range(2, len(G_table.columns)-1, 2)):\n",
        "    df = left_right_interact_binder(G_table, \"group\", str(G_table.columns[i]), str(G_table.columns[i+1]), \"left\", \"right\",default_name=name_list[ind])\n",
        "    #contrast8 = [-1,-1,-1,-1,1,1,1,1]\n",
        "    contrast9 = [-2,3,2,-3,-2,3,2,-3] # \n",
        "    F_table = contrast_analysis(df, contrast9, group_variable=\"U\", col=name_list[ind])\n",
        "    print(F_table)"
      ]
    }
  ],
  "metadata": {
    "colab": {
      "collapsed_sections": [],
      "include_colab_link": true,
      "name": "The_contrast_analysis.ipynb",
      "provenance": []
    },
    "kernelspec": {
      "display_name": "Python 3.8.13 ('tvbenv')",
      "language": "python",
      "name": "python3"
    },
    "language_info": {
      "codemirror_mode": {
        "name": "ipython",
        "version": 3
      },
      "file_extension": ".py",
      "mimetype": "text/x-python",
      "name": "python",
      "nbconvert_exporter": "python",
      "pygments_lexer": "ipython3",
      "version": "3.8.13"
    },
    "vscode": {
      "interpreter": {
        "hash": "7d6eff59d82162ad618c2fda16bbe4a2b1e156e75fbd6961cfe85de3ca5351f8"
      }
    }
  },
  "nbformat": 4,
  "nbformat_minor": 0
}
