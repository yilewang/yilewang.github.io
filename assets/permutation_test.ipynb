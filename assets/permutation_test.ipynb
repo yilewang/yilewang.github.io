{
  "cells": [
    {
      "cell_type": "markdown",
      "metadata": {
        "colab_type": "text",
        "id": "view-in-github"
      },
      "source": [
        "<a href=\"https://colab.research.google.com/github/yilewang/TVB_Demo/blob/master/Permutation_Test.ipynb\" target=\"_parent\"><img src=\"https://colab.research.google.com/assets/colab-badge.svg\" alt=\"Open In Colab\"/></a>"
      ]
    },
    {
      "cell_type": "markdown",
      "metadata": {
        "id": "6_VKePb24swz"
      },
      "source": [
        "This is a demo for permutation test"
      ]
    },
    {
      "cell_type": "code",
      "execution_count": 6,
      "metadata": {
        "id": "dbR7Z1Ra4wAs"
      },
      "outputs": [],
      "source": [
        "#!/usr/bin/python\n",
        "\n",
        "import numpy as np\n",
        "import matplotlib.pyplot as plt\n",
        "import seaborn as sns\n",
        "\"\"\"\n",
        "This is a permutation test python script\n",
        "Author: Yile Wang\n",
        "Date: 07/11/2021\n",
        "\"\"\"\n",
        "\n",
        "\n",
        "def permutation_test(x,y,iteration, visual = False, mode = \"twosides\"):\n",
        "    \"\"\"\n",
        "    Args:   \n",
        "        x: data list1 1-d array\n",
        "        y: data list2 1-d array\n",
        "        iteration: iteration number for the test\n",
        "        visual (boolean): the default value is False. If it is True, the permutation histgram will be generated\n",
        "    Returns:\n",
        "        p-value of the permutation test\n",
        "\n",
        "    \"\"\"\n",
        "    # transfer data to array format\n",
        "    if len(y) > len(x):\n",
        "        tmp_x = y\n",
        "        tmp_y = x\n",
        "    else:\n",
        "        tmp_x = x\n",
        "        tmp_y = y\n",
        "    x = np.array(tmp_x)\n",
        "    y = np.array(tmp_y)\n",
        "    #np.hstack((x,y))\n",
        "    orig_mean = abs(np.mean(x) - np.mean(y))\n",
        "    Z = np.hstack((x, y))\n",
        "    Z_fake = range(len(Z))\n",
        "    box = np.array([])\n",
        "    i = 0\n",
        "    while i < iteration:\n",
        "        idx_x = np.random.choice(Z_fake, size= x.shape[0], replace=False)\n",
        "        idx_y = np.asarray([ele for ele in Z_fake if ele not in idx_x])\n",
        "        real_x = Z[idx_x]\n",
        "        real_y = Z[idx_y]\n",
        "        if mode in [\"twosides\"]:\n",
        "            p_mean = np.abs(np.mean(real_x) - np.mean(real_y))\n",
        "        elif mode in [\"greater\", \"less\"]:\n",
        "            p_mean = np.mean(real_x) - np.mean(real_y)\n",
        "        box = np.append(box, p_mean)\n",
        "        i+=1\n",
        "    permu_mean = np.mean(box)\n",
        "    if mode in [\"twosides\",\"greater\"]:\n",
        "        p_value = (box[box > orig_mean].shape[0] + 1) / (iteration + 1) # correction\n",
        "    elif mode in [\"less\"]:\n",
        "        p_value = (box[box < orig_mean].shape[0] + 1) / (iteration + 1) # correction\n",
        "    \n",
        "    # visual\n",
        "    if visual == True:\n",
        "        print(f\"The P-value of the Permutation Test is: {p_value}\")\n",
        "        plt.figure(figsize=(9,8))\n",
        "        sns.histplot(data=box, bins='auto')\n",
        "        plt.axvline(x=np.round(permu_mean,3), label='Permutation Mean at {}'.format(np.round(permu_mean,3)),c='g')\n",
        "        plt.axvline(x=orig_mean, label='Original Mean at {}'.format(orig_mean), c='r', linestyle = 'dashed')\n",
        "        plt.legend()\n",
        "        plt.show()\n",
        "    return p_value"
      ]
    },
    {
      "cell_type": "markdown",
      "metadata": {
        "id": "CU6p2fNy450l"
      },
      "source": [
        "A simple test:"
      ]
    },
    {
      "cell_type": "code",
      "execution_count": 9,
      "metadata": {
        "colab": {
          "base_uri": "https://localhost:8080/",
          "height": 517
        },
        "id": "cdQ95I2h49WD",
        "outputId": "c67d9ccc-88e0-47f9-865d-1ebeab63c091"
      },
      "outputs": [
        {
          "name": "stdout",
          "output_type": "stream",
          "text": [
            "The P-value of the Permutation Test is: 0.7330266973302669\n"
          ]
        },
        {
          "data": {
            "image/png": "[encoded data removed]",
            "text/plain": [
              "<Figure size 648x576 with 1 Axes>"
            ]
          },
          "metadata": {
            "needs_background": "light"
          },
          "output_type": "display_data"
        },
        {
          "data": {
            "text/plain": [
              "0.7330266973302669"
            ]
          },
          "execution_count": 9,
          "metadata": {},
          "output_type": "execute_result"
        }
      ],
      "source": [
        "x = np.random.random_sample((20,))\n",
        "y = np.random.random_sample((12,))\n",
        "permutation_test(x, y, 10000, True, \"less\")"
      ]
    }
  ],
  "metadata": {
    "colab": {
      "authorship_tag": "ABX9TyOxXvfA9lAVa/QXxOjRNpL0",
      "include_colab_link": true,
      "name": "Permutation_Test.ipynb",
      "provenance": []
    },
    "kernelspec": {
      "display_name": "Python 3.9.13 ('tvbenv')",
      "language": "python",
      "name": "python3"
    },
    "language_info": {
      "codemirror_mode": {
        "name": "ipython",
        "version": 3
      },
      "file_extension": ".py",
      "mimetype": "text/x-python",
      "name": "python",
      "nbconvert_exporter": "python",
      "pygments_lexer": "ipython3",
      "version": "3.9.13"
    },
    "vscode": {
      "interpreter": {
        "hash": "d3c26eedd07840027ff202a94d88c89e67a86d8b5dcd58f087e1d46a589dbbcf"
      }
    }
  },
  "nbformat": 4,
  "nbformat_minor": 0
}
